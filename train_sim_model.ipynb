{
 "cells": [
  {
   "cell_type": "code",
   "execution_count": 2,
   "metadata": {},
   "outputs": [],
   "source": [
    "import numpy as np\n",
    "from gensim.models.word2vec import Word2Vec\n",
    "import pandas as pd\n",
    "import time\n",
    "import textblob\n",
    "from textblob import TextBlob\n",
    "from googletrans import Translator\n",
    "from textblob.classifiers import NaiveBayesClassifier\n"
   ]
  },
  {
   "cell_type": "code",
   "execution_count": null,
   "metadata": {},
   "outputs": [
    {
     "name": "stdout",
     "output_type": "stream",
     "text": [
      "데이터 갯수 : 97\n",
      "결손 데이터 제거 후 데이터 갯수 : 97\n",
      "0    부모님 모시고 방문했어요 여의도파라곤이라 주차도 편했고 위치도 좋았습니다 룸형태라 ...\n",
      "1    양 정말 푸짐하고 맛있었던 고방채 꼬막비빔밥 새우전 정식 먹었는데 2인분이 3인분같...\n",
      "2    문어 숙회랑 냉수육이 맛있을수있는 음식인지 처음알았어요!! 기대도안했던 어묵탕......\n",
      "dtype: object\n",
      "0    부모님 모시고 방문했어요 여의도파라곤이라 주차도 편했고 위치도 좋았습니다 룸형태라 ...\n",
      "1    양 정말 푸짐하고 맛있었던 고방채 꼬막비빔밥 새우전 정식 먹었는데 인분이 인분같이 ...\n",
      "2    문어 숙회랑 냉수육이 맛있을수있는 음식인지 처음알았어요 기대도안했던 어묵탕맛있는어묵...\n",
      "3    여기는 부모님 모시고 꼭 가보세요 프라이빗한 룸에서 친구들과 편히 수다떨면서 맛난 ...\n",
      "4    아주아주 맛있게 잘 먹었습니다 직장 동료 들과 거하게 먹고 갑니다 역시 고방채 호점...\n",
      "5    가족모임으로 갔는데 너무 좋았어요 룸도 적당히 넓고 깨끗하고 음식도 다 너무 맛있었...\n",
      "6               너무 정갈하고 맛있었습니다  조만간 디너에 친구들과 또 방문하겠습니다\n",
      "7    단독룸이라 회삭 비즈니시미팅 가족 모임하기 좋아요 가마솥 전복죽 먹었는데 전복죽도 ...\n",
      "8             자주 오는 식당이어요 내일도 옵니다 맛있어요 솥밥의 밥이 촉촉하고 맛나요\n",
      "9    여의도를 중심으로 모던한식을 추구하는 고방채  육회와 뭉티기 냉편육모두 보여지는 것...\n",
      "dtype: object\n",
      "리뷰의 최대 길이 : 147\n",
      "리뷰의 평균 길이 : 44.597938144329895\n",
      "[['I', 'visited', 'with', 'my', 'parents.', 'It', 'was', 'Yeouido', 'Paragon,', 'so', 'parking', 'was', 'easy', 'and', 'the', 'location', 'was', 'good.', 'It', 'was', 'a', 'private', 'room,', 'and', 'I', 'was', 'satisfied', 'with', 'the', 'appearance', 'and', 'quality', 'of', 'the', 'food.', 'I', 'was', 'proud', 'to', 'have', 'treated', 'my', 'parents', 'to', 'a', 'delicious', 'meal', 'in', 'a', 'nice', 'place,', 'and', 'they', 'really', 'liked', 'it.', 'Yeouido', 'Korean', 'food.', \"It's\", 'a', 'top', 'home'], ['I', 'had', 'a', 'set', 'meal', 'of', 'Gobangchae', 'cockle', 'bibimbap', 'and', 'shrimp', 'pancake,', 'which', 'was', 'really', 'generous', 'and', 'delicious.', 'The', 'portions', 'were', 'generous', 'for', 'each', 'person,', 'so', 'I', 'think', 'it', 'was', 'even', 'better', 'because', 'I', 'could', 'eat', 'privately', 'in', 'the', 'room.', 'It', 'was', 'a', 'delicious', 'Gobangchae', 'meal', 'in', 'a', 'cozy', 'and', 'comfortable', 'way.'], ['This', 'was', 'the', 'first', 'time', 'I', 'realized', 'that', 'boiled', 'octopus', 'sashimi', 'and', 'cold', 'water', 'meat', 'could', 'be', 'delicious', 'foods.', 'It', 'was', 'my', 'first', 'time', 'eating', 'delicious', 'fish', 'cake', 'soup,', 'which', 'I', \"wasn't\", 'expecting,', 'so', 'I', 'ate', 'almost', 'all', 'of', 'it.', 'The', 'tofu', 'was', 'so', 'savory', 'and', 'so', 'delicious.', 'The', 'meat', 'was', 'a', 'rich', 'red', 'in', 'color,', 'and', 'it', 'was', 'great', 'to', 'eat', 'it', 'together', 'with', 'delicious', 'raw', 'fish', 'for', 'the', 'first', 'time', 'in', 'a', 'while.', 'Seriously,', 'this', 'place', 'tells', 'you', 'why', 'all', 'the', 'menu', 'items', 'are', 'at', 'this', 'price.', 'It', 'was', 'delicious.'], ['Be', 'sure', 'to', 'go', 'here', 'with', 'your', 'parents.', 'I', 'tasted', 'delicious', 'surasang', 'while', 'comfortably', 'chatting', 'with', 'friends', 'in', 'a', 'private', 'room.', 'The', 'staff', 'is', 'friendly', 'and', 'the', 'food', 'is', 'prepared', 'well', 'and', 'is', 'good', 'value', 'for', 'money.', 'This', 'is', 'definitely', 'the', 'place', 'for', 'year-end', 'gatherings.']]\n"
     ]
    }
   ],
   "source": [
    "import textblob.tokenizers\n",
    "\n",
    "\n",
    "with open('datas\\\\review_data.txt', 'r', encoding='UTF-8') as file:\n",
    "    content = file.read()\n",
    "# train_data = content.split('\\n')[3:-1]\n",
    "train_data = content.split('\\n')[3:-1]\n",
    "for ite in range(len(train_data)):\n",
    "    train_data[ite] = train_data[ite].split('|')[1]\n",
    "# 결손 데이터 제거\n",
    "print(f\"데이터 갯수 : {len(train_data)}\")\n",
    "temp = train_data.copy()\n",
    "train_data.clear()\n",
    "for ite in range(len(temp)):\n",
    "    if (temp[ite] != ''):\n",
    "        train_data.append(temp[ite])\n",
    "print(f\"결손 데이터 제거 후 데이터 갯수 : {len(train_data)}\")\n",
    "train_data = pd.Series(train_data)\n",
    "print(train_data[:3])\n",
    "train_data = train_data.str.replace(\"[^ㄱ-ㅎㅏ-ㅣ가-힣 ]\",\"\", regex=True)\n",
    "print(train_data[:10])\n",
    "\n",
    "tokenized_data = []\n",
    "tran = Translator()\n",
    "\n",
    "for ko_sent in train_data:\n",
    "    # 한 문장에 대략 0.3초\n",
    "    # 토큰화\n",
    "    en_sent = tran.translate(ko_sent, dest = 'en')\n",
    "    en_sent = en_sent.text\n",
    "    tokenized_sentence = en_sent.split(' ')\n",
    "    # stopwords_removed_sentence = [word for word in tokenized_sentence if not word in stopwords] # 불용어 제거\n",
    "    tokenized_data.append(tokenized_sentence)\n",
    "\n",
    "print('리뷰의 최대 길이 :',max(len(review) for review in tokenized_data))\n",
    "print('리뷰의 평균 길이 :',sum(map(len, tokenized_data))/len(tokenized_data))\n",
    "print(tokenized_data[:4])"
   ]
  },
  {
   "cell_type": "code",
   "execution_count": 17,
   "metadata": {},
   "outputs": [
    {
     "name": "stdout",
     "output_type": "stream",
     "text": [
      "training start\n",
      "training finished : 0.04555392265319824\n",
      "(154, 100)\n",
      "model saved as datas\\w2v_model.bin\n"
     ]
    }
   ],
   "source": [
    "print(\"training start\")\n",
    "start = time.time()\n",
    "model = Word2Vec(sentences = tokenized_data, vector_size = 100, window = 5, min_count = 5, workers = 4, sg = 0)\n",
    "print(\"training finished :\", time.time() - start)\n",
    "print(model.wv.vectors.shape)\n",
    "\n",
    "model.save(\"datas\\\\w2v_model.bin\")\n",
    "print(f\"model saved as datas\\\\w2v_model.bin\")"
   ]
  },
  {
   "cell_type": "code",
   "execution_count": 18,
   "metadata": {},
   "outputs": [
    {
     "name": "stdout",
     "output_type": "stream",
     "text": [
      "[('The', 0.9961249828338623), ('and', 0.9955106973648071), ('so', 0.9954923987388611), ('with', 0.9950205087661743), ('I', 0.9947454929351807), ('a', 0.9946587085723877), ('for', 0.9946531653404236), ('was', 0.9944822192192078), ('the', 0.9944712519645691), ('it', 0.9943217635154724)]\n"
     ]
    }
   ],
   "source": [
    "print(model.wv.most_similar('delicious'))"
   ]
  },
  {
   "cell_type": "code",
   "execution_count": null,
   "metadata": {},
   "outputs": [],
   "source": []
  }
 ],
 "metadata": {
  "kernelspec": {
   "display_name": "adco",
   "language": "python",
   "name": "python3"
  },
  "language_info": {
   "codemirror_mode": {
    "name": "ipython",
    "version": 3
   },
   "file_extension": ".py",
   "mimetype": "text/x-python",
   "name": "python",
   "nbconvert_exporter": "python",
   "pygments_lexer": "ipython3",
   "version": "3.12.7"
  }
 },
 "nbformat": 4,
 "nbformat_minor": 4
}
