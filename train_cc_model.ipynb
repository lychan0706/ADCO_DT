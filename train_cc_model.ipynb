from googletrans import Translator
from textblob import TextBlob
from nltk.tokenize import sent_tokenize

text=("튀김류 코너도 있고, 탄산음료랑 아이스크림도 먹을 수 있어서 웬만한 뷔페 부럽지 않죠. 튀김 중에서는 닭가슴살 튀김이 특히 맛있습니다. 처음에는 이게 탕수육인가 싶었는데 알아보니 닭가슴살 튀김이더라고요.")

def analyze_sentiment_and_subjectivity(text):

    translator = Translator()

    translated_text = translator.translate(text, src="ko", dest="en").text

    sentences = sent_tokenize(translated_text)

    sentiments = []
    subjectivities = []

    for sentence in sentences:
        blob = TextBlob(sentence)
        sentiment = blob.sentiment.polarity
        subjectivity = blob.sentiment.subjectivity
        sentiments.append(sentiment)
        subjectivities.append(subjectivity)

    avg_sentiment = sum(sentiments) / len(sentiments) if sentiments else 0
    avg_subjectivity = sum(subjectivities) / len(subjectivities) if subjectivities else 0

    print(f"평균 Sentiment (감정 점수): {avg_sentiment:.2f}")
    print(f"평균 Subjectivity (주관성 점수): {avg_subjectivity:.2f}")
    return avg_sentiment, avg_subjectivity
